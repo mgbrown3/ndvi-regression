{
 "cells": [
  {
   "cell_type": "code",
   "execution_count": 1,
   "id": "ccd9aa59-7e22-4e8f-87f6-630b0375ea02",
   "metadata": {},
   "outputs": [],
   "source": [
    "import sys\n",
    "sys.path.append(\"../model\")\n",
    "from SklearnModels import Regressor\n",
    "\n",
    "import datetime\n",
    "import numpy as np\n",
    "import pandas as pd\n",
    "import math\n",
    "import glob\n",
    "import os\n",
    "\n",
    "from sklearn.model_selection import train_test_split\n",
    "from sklearn.metrics import mean_squared_error\n",
    "\n",
    "import matplotlib.pyplot as plt\n",
    "plt.style.use('seaborn')"
   ]
  },
  {
   "cell_type": "code",
   "execution_count": 3,
   "id": "6047029e-a54e-4784-a8f8-4edf3ad53d4f",
   "metadata": {},
   "outputs": [],
   "source": [
    "import torch\n",
    "from LSTMModel import Net"
   ]
  },
  {
   "cell_type": "markdown",
   "id": "a47c7cb7-ed24-45be-b8b1-03b87d6234fd",
   "metadata": {},
   "source": [
    "#### Load data"
   ]
  },
  {
   "cell_type": "code",
   "execution_count": 4,
   "id": "0855106a-f3c4-43ec-aa67-3543482c97fe",
   "metadata": {},
   "outputs": [
    {
     "name": "stderr",
     "output_type": "stream",
     "text": [
      "/att/gpfsfs/home/appmgr/app/jupyterhub/ilab/ilab-kernel/lib/python3.7/site-packages/numpy/lib/arraysetops.py:580: FutureWarning: elementwise comparison failed; returning scalar instead, but in the future will perform elementwise comparison\n",
      "  mask |= (ar1 == a)\n"
     ]
    }
   ],
   "source": [
    "# read in training samples\n",
    "file = '../../data/2006NDVI_LCin_all.csv'\n",
    "mydata = pd.read_csv(file, index_col=0)\n",
    "\n",
    "# replace NA with 0\n",
    "cmydata = mydata.fillna(0.0)\n",
    "\n",
    "# drop rows where uvi == 0\n",
    "mmidat = cmydata[cmydata.uvi != 0.0].reset_index(drop=True)\n",
    "\n",
    "\n",
    "# split into train & test sets\n",
    "test_ratio = 0.2\n",
    "train, test = train_test_split(mmidat, test_size=test_ratio, random_state=12)\n",
    "# split dependent(Y) and indenpendent(X) variable\n",
    "d_var = 'uvi'\n",
    "ind_vars = ['upre', 'upvi', 'u2pvi', 'u3pvi', 'u4pvi', 'u5pvi']\n",
    "xTrain, yTrain = train[ind_vars], train[d_var] \n",
    "xTest, yTest = test[ind_vars],test[d_var]\n",
    "\n",
    "# generate subset\n",
    "train_subset = train.sample(frac=0.1)\n",
    "train_subset.shape\n",
    "xTrain_sub, yTrain_sub = train_subset[ind_vars], train_subset[d_var]"
   ]
  },
  {
   "cell_type": "markdown",
   "id": "4d097ff9-f9fb-43ae-85a2-7741a09c967d",
   "metadata": {},
   "source": [
    "### Train CNN"
   ]
  },
  {
   "cell_type": "code",
   "execution_count": 5,
   "id": "a17a2858-e3f7-415b-9978-4ca5e0027bf0",
   "metadata": {
    "tags": []
   },
   "outputs": [],
   "source": [
    "# Device\n",
    "device = torch.device(\"cuda:0\" if torch.cuda.is_available() else \"cpu\")"
   ]
  },
  {
   "cell_type": "code",
   "execution_count": 6,
   "id": "cb9d961f-a217-4f70-96c0-c6d419b01b98",
   "metadata": {},
   "outputs": [
    {
     "data": {
      "text/plain": [
       "((618515, 1, 6), (618515,))"
      ]
     },
     "execution_count": 6,
     "metadata": {},
     "output_type": "execute_result"
    }
   ],
   "source": [
    "x, y = xTrain_sub.to_numpy(), yTrain_sub.to_numpy()\n",
    "\n",
    "x = x.reshape(x.shape[0], 1, x.shape[1])\n",
    "x.shape, y.shape"
   ]
  },
  {
   "cell_type": "code",
   "execution_count": 7,
   "id": "da82a025-a389-4248-b82d-7ac5fa71c53c",
   "metadata": {},
   "outputs": [],
   "source": [
    "# numpy array to pytorch tensor\n",
    "x_train_ts = torch.from_numpy(x).type(torch.float32)\n",
    "y_train_ts = torch.from_numpy(y).type(torch.float32)"
   ]
  },
  {
   "cell_type": "code",
   "execution_count": 8,
   "id": "647c8593-6ae3-4785-9259-646187bdef58",
   "metadata": {},
   "outputs": [],
   "source": [
    "net = Net()\n",
    "net = net.to(device)\n",
    "optimizer = torch.optim.Adam(net.parameters(), lr=0.01)\n",
    "loss_func = torch.nn.MSELoss()"
   ]
  },
  {
   "cell_type": "code",
   "execution_count": 9,
   "id": "a284d79b-e080-4d52-9390-5cbcbc157f2e",
   "metadata": {},
   "outputs": [],
   "source": [
    "## Start training\n",
    "import torch.utils.data as Data\n",
    "from torch.autograd import Variable"
   ]
  },
  {
   "cell_type": "code",
   "execution_count": 10,
   "id": "604aacc6-47e9-4bb3-b75d-da59d0a3d3c3",
   "metadata": {},
   "outputs": [],
   "source": [
    "##\n",
    "BATCH_SIZE = 128\n",
    "EPOCH = 10\n",
    "\n",
    "torch_dataset = Data.TensorDataset(x_train_ts, y_train_ts)\n",
    "\n",
    "loader = Data.DataLoader(\n",
    "    dataset=torch_dataset, \n",
    "    batch_size=BATCH_SIZE, \n",
    "    shuffle=True, num_workers=2,)"
   ]
  },
  {
   "cell_type": "code",
   "execution_count": 11,
   "id": "8dbe77b9-b6ab-4609-bedf-5969638da6dd",
   "metadata": {
    "tags": []
   },
   "outputs": [
    {
     "name": "stdout",
     "output_type": "stream",
     "text": [
      "Epoch 000: | Train Loss: 1087639.04398\n",
      "Epoch 001: | Train Loss: 930052.67642\n",
      "Epoch 002: | Train Loss: 926459.74283\n",
      "Epoch 003: | Train Loss: 923750.97275\n",
      "Epoch 004: | Train Loss: 918919.41614\n",
      "Epoch 005: | Train Loss: 919072.29718\n",
      "Epoch 006: | Train Loss: 917081.01055\n",
      "Epoch 007: | Train Loss: 915537.57687\n",
      "Epoch 008: | Train Loss: 911080.80283\n",
      "Epoch 009: | Train Loss: 908713.50164\n"
     ]
    }
   ],
   "source": [
    "for epoch in range(EPOCH):\n",
    "    epoch_loss = 0\n",
    "    net = net.train()\n",
    "    for step, (batch_x, batch_y) in enumerate(loader):\n",
    "        b_x = Variable(batch_x).to(device)\n",
    "        b_y = Variable(batch_y).to(device)\n",
    "        \n",
    "        prediction = net(b_x)\n",
    "        loss = loss_func(prediction, b_y)\n",
    "        \n",
    "        optimizer.zero_grad()\n",
    "        loss.backward()\n",
    "        optimizer.step()\n",
    "        \n",
    "        epoch_loss += loss.item()\n",
    "    \n",
    "    print(f'Epoch {epoch+0:03}: | Train Loss: {epoch_loss/len(loader):.5f}') "
   ]
  },
  {
   "cell_type": "code",
   "execution_count": null,
   "id": "93ecab0b-3b38-4d58-8f3b-781ead8b0f7a",
   "metadata": {},
   "outputs": [],
   "source": [
    "torch.save(net, 'cnn_checkpoint.chk')"
   ]
  },
  {
   "cell_type": "code",
   "execution_count": 12,
   "id": "d8a35e99-6e62-412f-a32f-0ef792f143e4",
   "metadata": {},
   "outputs": [
    {
     "data": {
      "text/plain": [
       "tensor([[2347.5918],\n",
       "        [2321.6440],\n",
       "        [2266.5288],\n",
       "        ...,\n",
       "        [2239.6323],\n",
       "        [2434.3872],\n",
       "        [2258.9814]], device='cuda:0', grad_fn=<AddmmBackward>)"
      ]
     },
     "execution_count": 12,
     "metadata": {},
     "output_type": "execute_result"
    }
   ],
   "source": [
    "pred = net(x_train_ts.to(device))\n",
    "pred"
   ]
  },
  {
   "cell_type": "code",
   "execution_count": 13,
   "id": "78c8f8fa-bb4a-4908-97a7-2d4283b32eb6",
   "metadata": {},
   "outputs": [
    {
     "data": {
      "text/plain": [
       "tensor([1877., 2224., 1942.,  ...,  124., 3459., 1761.])"
      ]
     },
     "execution_count": 13,
     "metadata": {},
     "output_type": "execute_result"
    }
   ],
   "source": [
    "y_train_ts"
   ]
  },
  {
   "cell_type": "code",
   "execution_count": null,
   "id": "5bdf5b98-d996-48f1-887a-e5f772182613",
   "metadata": {},
   "outputs": [],
   "source": []
  }
 ],
 "metadata": {
  "kernelspec": {
   "display_name": "ilab-kernel",
   "language": "python",
   "name": "ilab-kernel"
  },
  "language_info": {
   "codemirror_mode": {
    "name": "ipython",
    "version": 3
   },
   "file_extension": ".py",
   "mimetype": "text/x-python",
   "name": "python",
   "nbconvert_exporter": "python",
   "pygments_lexer": "ipython3",
   "version": "3.7.10"
  }
 },
 "nbformat": 4,
 "nbformat_minor": 5
}
