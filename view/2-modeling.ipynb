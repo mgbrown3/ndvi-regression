{
 "cells": [
  {
   "cell_type": "markdown",
   "metadata": {},
   "source": [
    "## Notebook for Training Linear Regression and Random Forest Regression Model (Step 2)\n"
   ]
  },
  {
   "cell_type": "markdown",
   "metadata": {},
   "source": [
    "### Set up"
   ]
  },
  {
   "cell_type": "code",
   "execution_count": 1,
   "metadata": {},
   "outputs": [],
   "source": [
    "import sys\n",
    "sys.path.append(\"../\")"
   ]
  },
  {
   "cell_type": "code",
   "execution_count": 19,
   "metadata": {},
   "outputs": [],
   "source": [
    "import numpy as np"
   ]
  },
  {
   "cell_type": "code",
   "execution_count": 2,
   "metadata": {},
   "outputs": [],
   "source": [
    "import pandas as pd"
   ]
  },
  {
   "cell_type": "code",
   "execution_count": 3,
   "metadata": {},
   "outputs": [],
   "source": [
    "from sklearn.model_selection import train_test_split"
   ]
  },
  {
   "cell_type": "code",
   "execution_count": 4,
   "metadata": {},
   "outputs": [],
   "source": [
    "from model.SklearnModels import Regressor"
   ]
  },
  {
   "cell_type": "markdown",
   "metadata": {},
   "source": [
    "### Prepare training dataset"
   ]
  },
  {
   "cell_type": "markdown",
   "metadata": {},
   "source": [
    "# Change path to your training csv file in next cell"
   ]
  },
  {
   "cell_type": "code",
   "execution_count": 5,
   "metadata": {},
   "outputs": [],
   "source": [
    "# read in training samples\n",
    "file = '../../data/2006NDVI_LCin_all.csv'\n",
    "mydata = pd.read_csv(file, index_col=0)"
   ]
  },
  {
   "cell_type": "code",
   "execution_count": 6,
   "metadata": {},
   "outputs": [
    {
     "data": {
      "text/html": [
       "<div>\n",
       "<style scoped>\n",
       "    .dataframe tbody tr th:only-of-type {\n",
       "        vertical-align: middle;\n",
       "    }\n",
       "\n",
       "    .dataframe tbody tr th {\n",
       "        vertical-align: top;\n",
       "    }\n",
       "\n",
       "    .dataframe thead th {\n",
       "        text-align: right;\n",
       "    }\n",
       "</style>\n",
       "<table border=\"1\" class=\"dataframe\">\n",
       "  <thead>\n",
       "    <tr style=\"text-align: right;\">\n",
       "      <th></th>\n",
       "      <th>uvi</th>\n",
       "      <th>upre</th>\n",
       "      <th>ulc</th>\n",
       "      <th>upvi</th>\n",
       "      <th>u2pvi</th>\n",
       "      <th>u3pvi</th>\n",
       "      <th>u4pvi</th>\n",
       "      <th>u5pvi</th>\n",
       "    </tr>\n",
       "  </thead>\n",
       "  <tbody>\n",
       "    <tr>\n",
       "      <th>1</th>\n",
       "      <td>0.0</td>\n",
       "      <td>0.0</td>\n",
       "      <td>0.0</td>\n",
       "      <td>0.0</td>\n",
       "      <td>0.0</td>\n",
       "      <td>0.0</td>\n",
       "      <td>0.0</td>\n",
       "      <td>0.0</td>\n",
       "    </tr>\n",
       "    <tr>\n",
       "      <th>2</th>\n",
       "      <td>0.0</td>\n",
       "      <td>0.0</td>\n",
       "      <td>0.0</td>\n",
       "      <td>0.0</td>\n",
       "      <td>0.0</td>\n",
       "      <td>0.0</td>\n",
       "      <td>0.0</td>\n",
       "      <td>0.0</td>\n",
       "    </tr>\n",
       "    <tr>\n",
       "      <th>3</th>\n",
       "      <td>0.0</td>\n",
       "      <td>0.0</td>\n",
       "      <td>0.0</td>\n",
       "      <td>0.0</td>\n",
       "      <td>0.0</td>\n",
       "      <td>0.0</td>\n",
       "      <td>0.0</td>\n",
       "      <td>0.0</td>\n",
       "    </tr>\n",
       "    <tr>\n",
       "      <th>4</th>\n",
       "      <td>0.0</td>\n",
       "      <td>0.0</td>\n",
       "      <td>0.0</td>\n",
       "      <td>0.0</td>\n",
       "      <td>0.0</td>\n",
       "      <td>0.0</td>\n",
       "      <td>0.0</td>\n",
       "      <td>0.0</td>\n",
       "    </tr>\n",
       "    <tr>\n",
       "      <th>5</th>\n",
       "      <td>0.0</td>\n",
       "      <td>0.0</td>\n",
       "      <td>0.0</td>\n",
       "      <td>0.0</td>\n",
       "      <td>0.0</td>\n",
       "      <td>0.0</td>\n",
       "      <td>0.0</td>\n",
       "      <td>0.0</td>\n",
       "    </tr>\n",
       "    <tr>\n",
       "      <th>6</th>\n",
       "      <td>0.0</td>\n",
       "      <td>0.0</td>\n",
       "      <td>0.0</td>\n",
       "      <td>0.0</td>\n",
       "      <td>0.0</td>\n",
       "      <td>0.0</td>\n",
       "      <td>0.0</td>\n",
       "      <td>0.0</td>\n",
       "    </tr>\n",
       "    <tr>\n",
       "      <th>7</th>\n",
       "      <td>0.0</td>\n",
       "      <td>0.0</td>\n",
       "      <td>0.0</td>\n",
       "      <td>0.0</td>\n",
       "      <td>0.0</td>\n",
       "      <td>0.0</td>\n",
       "      <td>0.0</td>\n",
       "      <td>0.0</td>\n",
       "    </tr>\n",
       "    <tr>\n",
       "      <th>8</th>\n",
       "      <td>0.0</td>\n",
       "      <td>0.0</td>\n",
       "      <td>0.0</td>\n",
       "      <td>0.0</td>\n",
       "      <td>0.0</td>\n",
       "      <td>0.0</td>\n",
       "      <td>0.0</td>\n",
       "      <td>0.0</td>\n",
       "    </tr>\n",
       "    <tr>\n",
       "      <th>9</th>\n",
       "      <td>0.0</td>\n",
       "      <td>0.0</td>\n",
       "      <td>0.0</td>\n",
       "      <td>0.0</td>\n",
       "      <td>0.0</td>\n",
       "      <td>0.0</td>\n",
       "      <td>0.0</td>\n",
       "      <td>0.0</td>\n",
       "    </tr>\n",
       "    <tr>\n",
       "      <th>10</th>\n",
       "      <td>0.0</td>\n",
       "      <td>0.0</td>\n",
       "      <td>0.0</td>\n",
       "      <td>0.0</td>\n",
       "      <td>0.0</td>\n",
       "      <td>0.0</td>\n",
       "      <td>0.0</td>\n",
       "      <td>0.0</td>\n",
       "    </tr>\n",
       "    <tr>\n",
       "      <th>11</th>\n",
       "      <td>0.0</td>\n",
       "      <td>0.0</td>\n",
       "      <td>0.0</td>\n",
       "      <td>0.0</td>\n",
       "      <td>0.0</td>\n",
       "      <td>0.0</td>\n",
       "      <td>0.0</td>\n",
       "      <td>0.0</td>\n",
       "    </tr>\n",
       "    <tr>\n",
       "      <th>12</th>\n",
       "      <td>0.0</td>\n",
       "      <td>0.0</td>\n",
       "      <td>0.0</td>\n",
       "      <td>0.0</td>\n",
       "      <td>0.0</td>\n",
       "      <td>0.0</td>\n",
       "      <td>0.0</td>\n",
       "      <td>0.0</td>\n",
       "    </tr>\n",
       "    <tr>\n",
       "      <th>13</th>\n",
       "      <td>0.0</td>\n",
       "      <td>0.0</td>\n",
       "      <td>0.0</td>\n",
       "      <td>0.0</td>\n",
       "      <td>0.0</td>\n",
       "      <td>0.0</td>\n",
       "      <td>0.0</td>\n",
       "      <td>0.0</td>\n",
       "    </tr>\n",
       "    <tr>\n",
       "      <th>14</th>\n",
       "      <td>0.0</td>\n",
       "      <td>0.0</td>\n",
       "      <td>0.0</td>\n",
       "      <td>0.0</td>\n",
       "      <td>0.0</td>\n",
       "      <td>0.0</td>\n",
       "      <td>0.0</td>\n",
       "      <td>0.0</td>\n",
       "    </tr>\n",
       "    <tr>\n",
       "      <th>15</th>\n",
       "      <td>0.0</td>\n",
       "      <td>0.0</td>\n",
       "      <td>0.0</td>\n",
       "      <td>0.0</td>\n",
       "      <td>0.0</td>\n",
       "      <td>0.0</td>\n",
       "      <td>0.0</td>\n",
       "      <td>0.0</td>\n",
       "    </tr>\n",
       "  </tbody>\n",
       "</table>\n",
       "</div>"
      ],
      "text/plain": [
       "    uvi  upre  ulc  upvi  u2pvi  u3pvi  u4pvi  u5pvi\n",
       "1   0.0   0.0  0.0   0.0    0.0    0.0    0.0    0.0\n",
       "2   0.0   0.0  0.0   0.0    0.0    0.0    0.0    0.0\n",
       "3   0.0   0.0  0.0   0.0    0.0    0.0    0.0    0.0\n",
       "4   0.0   0.0  0.0   0.0    0.0    0.0    0.0    0.0\n",
       "5   0.0   0.0  0.0   0.0    0.0    0.0    0.0    0.0\n",
       "6   0.0   0.0  0.0   0.0    0.0    0.0    0.0    0.0\n",
       "7   0.0   0.0  0.0   0.0    0.0    0.0    0.0    0.0\n",
       "8   0.0   0.0  0.0   0.0    0.0    0.0    0.0    0.0\n",
       "9   0.0   0.0  0.0   0.0    0.0    0.0    0.0    0.0\n",
       "10  0.0   0.0  0.0   0.0    0.0    0.0    0.0    0.0\n",
       "11  0.0   0.0  0.0   0.0    0.0    0.0    0.0    0.0\n",
       "12  0.0   0.0  0.0   0.0    0.0    0.0    0.0    0.0\n",
       "13  0.0   0.0  0.0   0.0    0.0    0.0    0.0    0.0\n",
       "14  0.0   0.0  0.0   0.0    0.0    0.0    0.0    0.0\n",
       "15  0.0   0.0  0.0   0.0    0.0    0.0    0.0    0.0"
      ]
     },
     "execution_count": 6,
     "metadata": {},
     "output_type": "execute_result"
    }
   ],
   "source": [
    "# replace NA with 0\n",
    "cmydata = mydata.fillna(0.0)\n",
    "cmydata.head(15)"
   ]
  },
  {
   "cell_type": "code",
   "execution_count": 7,
   "metadata": {},
   "outputs": [
    {
     "data": {
      "text/plain": [
       "(        uvi      upre   ulc    upvi   u2pvi   u3pvi   u4pvi   u5pvi\n",
       " 65   1793.0  0.902258  16.0  1368.0  1957.0  1902.0  2445.0  1669.0\n",
       " 66   1331.0  0.902258  16.0  1299.0     0.0  1867.0  2372.0  1523.0\n",
       " 181  1894.0  0.902258   7.0  1488.0  1771.0  1463.0  2177.0  1563.0\n",
       " 182  2342.0  0.902258  10.0  1561.0  2191.0  1685.0  2214.0  1910.0\n",
       " 183  1982.0  0.902258  10.0  1411.0  2243.0  1433.0  2235.0  1724.0\n",
       " 184  2311.0  0.902258  10.0  1697.0  2334.0  1725.0  1679.0  1971.0\n",
       " 185  1595.0  0.902258  10.0  1630.0  2235.0  1673.0  1769.0  1668.0\n",
       " 186  1777.0  0.902258  10.0  1540.0  2198.0   977.0  1136.0  1461.0\n",
       " 187  1967.0  0.984242  10.0  1513.0  1517.0  1000.0  1302.0  1319.0\n",
       " 298  1077.0  0.827861  16.0  1105.0  1307.0   154.0  1409.0   852.0\n",
       " 299  1390.0  0.827861  10.0  1309.0  1674.0  1394.0  1660.0  1124.0\n",
       " 300  1894.0  0.902258   7.0  1488.0  1771.0  1463.0  2177.0  1563.0\n",
       " 301  1894.0  0.902258  10.0  1488.0  1771.0  1463.0  2177.0  1563.0\n",
       " 302  2342.0  0.902258  10.0  1561.0  2191.0  1685.0  2214.0  1910.0\n",
       " 303  1982.0  0.902258  10.0  1411.0  2243.0  1433.0  2235.0  1724.0,\n",
       " (7731435, 8))"
      ]
     },
     "execution_count": 7,
     "metadata": {},
     "output_type": "execute_result"
    }
   ],
   "source": [
    "# drop rows where uvi == 0\n",
    "mmidat = cmydata[cmydata.uvi != 0.0]\n",
    "mmidat.head(15), mmidat.shape"
   ]
  },
  {
   "cell_type": "code",
   "execution_count": 8,
   "metadata": {},
   "outputs": [],
   "source": [
    "# split into train & test sets\n",
    "test_ratio = 0.2\n",
    "train, test = train_test_split(mmidat, test_size=test_ratio, random_state=12)\n",
    "# split dependent(Y) and indenpendent(X) variable\n",
    "d_var = 'uvi'\n",
    "ind_vars = ['upre', 'upvi', 'u2pvi', 'u3pvi', 'u4pvi', 'u5pvi']\n",
    "xTrain, yTrain = train[ind_vars], train[d_var] \n",
    "xTest, yTest = test[ind_vars],test[d_var]"
   ]
  },
  {
   "cell_type": "markdown",
   "metadata": {},
   "source": [
    "### Train model\n"
   ]
  },
  {
   "cell_type": "code",
   "execution_count": 9,
   "metadata": {},
   "outputs": [],
   "source": [
    "# initialize regression model\n",
    "# specify hyperparameter through dictioary\n",
    "# select model type: \"linear\", \"randomforest\"\n",
    "\n",
    "rf_params = dict(n_estimators=20, random_state=0, n_jobs=-1)\n",
    "model = Regressor(\"randomforest\", **rf_params)"
   ]
  },
  {
   "cell_type": "code",
   "execution_count": 10,
   "metadata": {},
   "outputs": [
    {
     "data": {
      "text/plain": [
       "(618515, 8)"
      ]
     },
     "execution_count": 10,
     "metadata": {},
     "output_type": "execute_result"
    }
   ],
   "source": [
    "train_subset = train.sample(frac=0.1)\n",
    "train_subset.shape"
   ]
  },
  {
   "cell_type": "code",
   "execution_count": 11,
   "metadata": {},
   "outputs": [],
   "source": [
    "x, y = train_subset[ind_vars], train_subset[d_var]"
   ]
  },
  {
   "cell_type": "markdown",
   "metadata": {},
   "source": [
    "# Give full path to save pre-trained model in next cell"
   ]
  },
  {
   "cell_type": "code",
   "execution_count": 12,
   "metadata": {},
   "outputs": [
    {
     "name": "stdout",
     "output_type": "stream",
     "text": [
      "CPU times: user 1min 49s, sys: 1.49 s, total: 1min 51s\n",
      "Wall time: 1min 15s\n"
     ]
    }
   ],
   "source": [
    "%%time\n",
    "model.train(x, y, \"rf_test.joblib\")"
   ]
  },
  {
   "cell_type": "markdown",
   "metadata": {},
   "source": [
    "### Prediction & Visualize Result"
   ]
  },
  {
   "cell_type": "code",
   "execution_count": 15,
   "metadata": {},
   "outputs": [],
   "source": [
    "from plotnine import *"
   ]
  },
  {
   "cell_type": "markdown",
   "metadata": {},
   "source": [
    "# Give full path to save pre-trained model in next cell"
   ]
  },
  {
   "cell_type": "code",
   "execution_count": 13,
   "metadata": {},
   "outputs": [],
   "source": [
    "m = model._load_model(\"rf_test.joblib\")"
   ]
  },
  {
   "cell_type": "code",
   "execution_count": 14,
   "metadata": {},
   "outputs": [
    {
     "data": {
      "text/plain": [
       "RandomForestRegressor(n_estimators=20, n_jobs=-1, random_state=0)"
      ]
     },
     "execution_count": 14,
     "metadata": {},
     "output_type": "execute_result"
    }
   ],
   "source": [
    "m"
   ]
  },
  {
   "cell_type": "code",
   "execution_count": 26,
   "metadata": {},
   "outputs": [
    {
     "data": {
      "text/plain": [
       "0.785"
      ]
     },
     "execution_count": 26,
     "metadata": {},
     "output_type": "execute_result"
    }
   ],
   "source": [
    "r2 = m.score(xTest, yTest)\n",
    "r2 = np.round(r2, 3)\n",
    "r2"
   ]
  },
  {
   "cell_type": "code",
   "execution_count": 17,
   "metadata": {},
   "outputs": [],
   "source": [
    "def relabel_ulc(df):\n",
    "    if not type(df.ulc.iloc[0]) is int:\n",
    "        df.ulc.astype(int)\n",
    "    conditions = [\n",
    "        df['ulc'] == 0,\n",
    "        df['ulc'] == 10,\n",
    "        df['ulc'] == 16,\n",
    "        df['ulc'] == 7,\n",
    "        df['ulc'] == 17,\n",
    "        df['ulc'] == 12,\n",
    "        df['ulc'] == 11,\n",
    "        df['ulc'] == 13,\n",
    "        df['ulc'] == 9,\n",
    "        ]\n",
    "    outputs = ['no data', 'grassland', 'barren', 'open shrbland', 'water', 'croplands', 'permanent wetlands', 'urban', 'savanna']\n",
    "    return np.select(conditions, outputs,'other')"
   ]
  },
  {
   "cell_type": "code",
   "execution_count": 20,
   "metadata": {},
   "outputs": [],
   "source": [
    "lc_type = relabel_ulc(test)"
   ]
  },
  {
   "cell_type": "code",
   "execution_count": 21,
   "metadata": {},
   "outputs": [],
   "source": [
    "df2 = pd.DataFrame({\"observations\" : yTest.values})\n",
    "df2[\"lc_type\"] = lc_type"
   ]
  },
  {
   "cell_type": "code",
   "execution_count": 22,
   "metadata": {},
   "outputs": [],
   "source": [
    "uvi_p2 = m.predict(xTest)\n",
    "df2[\"prediction\"] = uvi_p2"
   ]
  },
  {
   "cell_type": "code",
   "execution_count": 23,
   "metadata": {},
   "outputs": [],
   "source": [
    "df2_clean = df2[df2.lc_type != \"no data\"]"
   ]
  },
  {
   "cell_type": "code",
   "execution_count": 27,
   "metadata": {},
   "outputs": [
    {
     "data": {
      "image/png": "[encoded data removed]",
      "text/plain": [
       "<Figure size 640x480 with 8 Axes>"
      ]
     },
     "metadata": {},
     "output_type": "display_data"
    },
    {
     "data": {
      "text/plain": [
       "<ggplot: (2984815187309)>"
      ]
     },
     "execution_count": 27,
     "metadata": {},
     "output_type": "execute_result"
    }
   ],
   "source": [
    "(\n",
    "    ggplot(df2_clean)  # What data to use\n",
    "    + aes(x=\"observations\", y=\"prediction\", color=\"lc_type\")  # What variable to use\n",
    "    + geom_point()  # Geometric object to use for drawing\n",
    "    + xlab(\"Observed\") + ylab(\"Predicted\") + labs(title=f\"Pred vs Obs for Testing Data R2={r2}\")\n",
    "    + facet_wrap(['lc_type'])\n",
    ")"
   ]
  },
  {
   "cell_type": "code",
   "execution_count": null,
   "metadata": {},
   "outputs": [],
   "source": []
  }
 ],
 "metadata": {
  "kernelspec": {
   "display_name": "Python [conda env:.conda-ndvi-nb-env]",
   "language": "python",
   "name": "conda-env-.conda-ndvi-nb-env-py"
  },
  "language_info": {
   "codemirror_mode": {
    "name": "ipython",
    "version": 3
   },
   "file_extension": ".py",
   "mimetype": "text/x-python",
   "name": "python",
   "nbconvert_exporter": "python",
   "pygments_lexer": "ipython3",
   "version": "3.9.6"
  }
 },
 "nbformat": 4,
 "nbformat_minor": 4
}
