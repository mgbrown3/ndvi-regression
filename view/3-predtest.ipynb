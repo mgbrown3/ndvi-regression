{
 "cells": [
  {
   "cell_type": "markdown",
   "metadata": {},
   "source": [
    "## Notebook to apply regression model (Step 3)"
   ]
  },
  {
   "cell_type": "code",
   "execution_count": 1,
   "metadata": {},
   "outputs": [],
   "source": [
    "import os\n",
    "import glob\n",
    "import datetime\n",
    "from osgeo import gdal\n",
    "import numpy as np\n",
    "import joblib"
   ]
  },
  {
   "cell_type": "code",
   "execution_count": 2,
   "metadata": {},
   "outputs": [],
   "source": [
    "import pandas as pd"
   ]
  },
  {
   "cell_type": "code",
   "execution_count": 3,
   "metadata": {},
   "outputs": [],
   "source": [
    "def load_tif(file):\n",
    "    ds = gdal.Open(file)\n",
    "    arr = ds.GetRasterBand(1).ReadAsArray()\n",
    "    return arr"
   ]
  },
  {
   "cell_type": "markdown",
   "metadata": {},
   "source": [
    "# Give full path to pre-trained model in next cell"
   ]
  },
  {
   "cell_type": "code",
   "execution_count": 4,
   "metadata": {},
   "outputs": [],
   "source": [
    "### Load pre-trained model\n",
    "m = joblib.load(\"rf_test.joblib\")"
   ]
  },
  {
   "cell_type": "markdown",
   "metadata": {},
   "source": [
    "# Change path to point to your geoTiffs in next cell "
   ]
  },
  {
   "cell_type": "code",
   "execution_count": 5,
   "metadata": {},
   "outputs": [],
   "source": [
    "base_dir = \"/att/nobackup/jli30/workspace/ndvi_MGBrown_notebooks/data/test_out/\" \n",
    "\n",
    "regions = [\"podor\",  \"delta\", \"west\"] # AOIs\n",
    "\n",
    "year = 2006\n",
    "vihis = 5 # past 5 years NDVI\n",
    "tint = 30 # past 30 days Precip"
   ]
  },
  {
   "cell_type": "code",
   "execution_count": 6,
   "metadata": {},
   "outputs": [],
   "source": [
    "aoi = regions[0]\n",
    "days = np.arange(1,365,16) # MOD13 freq "
   ]
  },
  {
   "cell_type": "code",
   "execution_count": 7,
   "metadata": {},
   "outputs": [],
   "source": [
    "# load landcover raster \n",
    "path = os.path.join(base_dir,\n",
    "                   \"LANDCOVER\",\n",
    "                   f\"*{str(year)}*clip{aoi}.tif\")\n",
    "lc_file = glob.glob(path)[0]\n",
    "if lc_file:\n",
    "    lc = load_tif(lc_file)\n",
    "else:\n",
    "    raise RuntimeError(\"Can not find LandCover\")"
   ]
  },
  {
   "cell_type": "code",
   "execution_count": 8,
   "metadata": {},
   "outputs": [
    {
     "data": {
      "text/plain": [
       "(12, 17)"
      ]
     },
     "execution_count": 8,
     "metadata": {},
     "output_type": "execute_result"
    }
   ],
   "source": [
    "lc.shape"
   ]
  },
  {
   "cell_type": "code",
   "execution_count": 15,
   "metadata": {},
   "outputs": [
    {
     "name": "stdout",
     "output_type": "stream",
     "text": [
      "Current Date:  2006-03-22 00:00:00\n"
     ]
    }
   ],
   "source": [
    "for day in days[5:6]:\n",
    "    \n",
    "    yj = str(year)+str(day).zfill(3)\n",
    "    c_date = datetime.datetime.strptime(yj, \"%Y%j\")\n",
    "    print(\"Current Date: \", c_date)\n",
    "    \n",
    "    #--------------------------------------------------------------------------\n",
    "    # Load NDVI (current + past 5 years)\n",
    "    #--------------------------------------------------------------------------\n",
    "    ndvi_date_p = [c_date.replace(year=c_date.year-i) for i in range(vihis+1)]   \n",
    "    ndvi_list = []\n",
    "    for d in ndvi_date_p:\n",
    "        yyyy = str(d.year)\n",
    "        ddd = str(day).zfill(3)\n",
    "        path = os.path.join(base_dir,\n",
    "                           \"NDVI\",\n",
    "                           f\"*{yyyy}{ddd}*.clip{aoi}.tif\")\n",
    "        f = glob.glob(path)[0]\n",
    "        if f:\n",
    "            ndvi = load_tif(f)\n",
    "            ndvi_list.append(ndvi)\n",
    "        else:\n",
    "            date = d.strftime(\"Y%m%d\")\n",
    "            raise RuntimeError(f\"Can not find NDVI for Date : {date}\")\n",
    "    \n",
    "    #--------------------------------------------------------------------------\n",
    "    # Load Precipitation (current + past 30 days)\n",
    "    #--------------------------------------------------------------------------\n",
    "    pr_date_p = [c_date-datetime.timedelta(days=i) for i in range(tint+1)]\n",
    "    pr_list = []\n",
    "    for d in pr_date_p:\n",
    "        yyyy = str(d.year)\n",
    "        tstamp = datetime.datetime.strftime(d, \"%Y%m%d\")\n",
    "        path = os.path.join(base_dir,\n",
    "                           \"PRECIP\",\n",
    "                           f\"*{tstamp}*.clip{aoi}.tif\")\n",
    "        f = glob.glob(path)[0]\n",
    "        if f:\n",
    "            pr = load_tif(f)\n",
    "            pr_list.append(pr)\n",
    "        else:\n",
    "            date = d.strftime(\"Y%m%d\")\n",
    "            raise RuntimeError(f\"Can not find Precip for Date : {date}\")\n",
    "    # accumulate precip\n",
    "    p30 = np.sum(np.array(pr_list), axis=0)\n",
    "    \n",
    "    #--------------------------------------------------------------------------\n",
    "    # Form ind-variable dataframe\n",
    "    #--------------------------------------------------------------------------\n",
    "    # create mask based on current ndvi & lc\n",
    "    vi = ndvi_list[0]\n",
    "    mask = np.logical_and(lc!=12, vi>0)\n",
    "    uvi = np.where(mask, vi, np.nan)\n",
    "    \n",
    "    # apply mask for other variables\n",
    "    colnames= ['upre', 'upvi', 'u2pvi', 'u3pvi', 'u4pvi', 'u5pvi']\n",
    "    X = pd.DataFrame(columns = colnames)\n",
    "    \n",
    "    upre = np.where(mask, p30, np.nan)\n",
    "    X['upre'] = upre.ravel()\n",
    "    for i, key in enumerate(colnames[1:]):\n",
    "        arr = np.where(mask, ndvi_list[i+1], np.nan)\n",
    "        X[key] = arr.ravel()\n",
    "    \n",
    "    #--------------------------------------------------------------------------\n",
    "    # Make prediction\n",
    "    #--------------------------------------------------------------------------\n",
    "    X = X.dropna()\n",
    "    y_pred = m.predict(X)\n"
   ]
  },
  {
   "cell_type": "code",
   "execution_count": 16,
   "metadata": {},
   "outputs": [
    {
     "data": {
      "text/html": [
       "<div>\n",
       "<style scoped>\n",
       "    .dataframe tbody tr th:only-of-type {\n",
       "        vertical-align: middle;\n",
       "    }\n",
       "\n",
       "    .dataframe tbody tr th {\n",
       "        vertical-align: top;\n",
       "    }\n",
       "\n",
       "    .dataframe thead th {\n",
       "        text-align: right;\n",
       "    }\n",
       "</style>\n",
       "<table border=\"1\" class=\"dataframe\">\n",
       "  <thead>\n",
       "    <tr style=\"text-align: right;\">\n",
       "      <th></th>\n",
       "      <th>upre</th>\n",
       "      <th>upvi</th>\n",
       "      <th>u2pvi</th>\n",
       "      <th>u3pvi</th>\n",
       "      <th>u4pvi</th>\n",
       "      <th>u5pvi</th>\n",
       "    </tr>\n",
       "  </thead>\n",
       "  <tbody>\n",
       "    <tr>\n",
       "      <th>0</th>\n",
       "      <td>172.164688</td>\n",
       "      <td>1660.0</td>\n",
       "      <td>1855.0</td>\n",
       "      <td>1541.0</td>\n",
       "      <td>1892.0</td>\n",
       "      <td>1750.0</td>\n",
       "    </tr>\n",
       "    <tr>\n",
       "      <th>1</th>\n",
       "      <td>170.580078</td>\n",
       "      <td>1682.0</td>\n",
       "      <td>1855.0</td>\n",
       "      <td>1854.0</td>\n",
       "      <td>2680.0</td>\n",
       "      <td>1952.0</td>\n",
       "    </tr>\n",
       "    <tr>\n",
       "      <th>2</th>\n",
       "      <td>168.995483</td>\n",
       "      <td>1704.0</td>\n",
       "      <td>2342.0</td>\n",
       "      <td>1806.0</td>\n",
       "      <td>1901.0</td>\n",
       "      <td>1883.0</td>\n",
       "    </tr>\n",
       "    <tr>\n",
       "      <th>3</th>\n",
       "      <td>167.410889</td>\n",
       "      <td>-382.0</td>\n",
       "      <td>-988.0</td>\n",
       "      <td>2027.0</td>\n",
       "      <td>2954.0</td>\n",
       "      <td>-1867.0</td>\n",
       "    </tr>\n",
       "    <tr>\n",
       "      <th>4</th>\n",
       "      <td>165.826279</td>\n",
       "      <td>2397.0</td>\n",
       "      <td>2156.0</td>\n",
       "      <td>2041.0</td>\n",
       "      <td>-958.0</td>\n",
       "      <td>-161.0</td>\n",
       "    </tr>\n",
       "    <tr>\n",
       "      <th>...</th>\n",
       "      <td>...</td>\n",
       "      <td>...</td>\n",
       "      <td>...</td>\n",
       "      <td>...</td>\n",
       "      <td>...</td>\n",
       "      <td>...</td>\n",
       "    </tr>\n",
       "    <tr>\n",
       "      <th>186</th>\n",
       "      <td>161.864563</td>\n",
       "      <td>4291.0</td>\n",
       "      <td>2592.0</td>\n",
       "      <td>2258.0</td>\n",
       "      <td>3582.0</td>\n",
       "      <td>2096.0</td>\n",
       "    </tr>\n",
       "    <tr>\n",
       "      <th>197</th>\n",
       "      <td>162.733841</td>\n",
       "      <td>2139.0</td>\n",
       "      <td>2450.0</td>\n",
       "      <td>2867.0</td>\n",
       "      <td>2117.0</td>\n",
       "      <td>1896.0</td>\n",
       "    </tr>\n",
       "    <tr>\n",
       "      <th>198</th>\n",
       "      <td>162.733841</td>\n",
       "      <td>2934.0</td>\n",
       "      <td>3344.0</td>\n",
       "      <td>2949.0</td>\n",
       "      <td>3492.0</td>\n",
       "      <td>1908.0</td>\n",
       "    </tr>\n",
       "    <tr>\n",
       "      <th>199</th>\n",
       "      <td>162.733841</td>\n",
       "      <td>788.0</td>\n",
       "      <td>2773.0</td>\n",
       "      <td>1955.0</td>\n",
       "      <td>3757.0</td>\n",
       "      <td>3355.0</td>\n",
       "    </tr>\n",
       "    <tr>\n",
       "      <th>200</th>\n",
       "      <td>162.733841</td>\n",
       "      <td>4335.0</td>\n",
       "      <td>3236.0</td>\n",
       "      <td>2406.0</td>\n",
       "      <td>3179.0</td>\n",
       "      <td>3360.0</td>\n",
       "    </tr>\n",
       "  </tbody>\n",
       "</table>\n",
       "<p>169 rows × 6 columns</p>\n",
       "</div>"
      ],
      "text/plain": [
       "           upre    upvi   u2pvi   u3pvi   u4pvi   u5pvi\n",
       "0    172.164688  1660.0  1855.0  1541.0  1892.0  1750.0\n",
       "1    170.580078  1682.0  1855.0  1854.0  2680.0  1952.0\n",
       "2    168.995483  1704.0  2342.0  1806.0  1901.0  1883.0\n",
       "3    167.410889  -382.0  -988.0  2027.0  2954.0 -1867.0\n",
       "4    165.826279  2397.0  2156.0  2041.0  -958.0  -161.0\n",
       "..          ...     ...     ...     ...     ...     ...\n",
       "186  161.864563  4291.0  2592.0  2258.0  3582.0  2096.0\n",
       "197  162.733841  2139.0  2450.0  2867.0  2117.0  1896.0\n",
       "198  162.733841  2934.0  3344.0  2949.0  3492.0  1908.0\n",
       "199  162.733841   788.0  2773.0  1955.0  3757.0  3355.0\n",
       "200  162.733841  4335.0  3236.0  2406.0  3179.0  3360.0\n",
       "\n",
       "[169 rows x 6 columns]"
      ]
     },
     "execution_count": 16,
     "metadata": {},
     "output_type": "execute_result"
    }
   ],
   "source": [
    "X"
   ]
  },
  {
   "cell_type": "code",
   "execution_count": 17,
   "metadata": {},
   "outputs": [
    {
     "data": {
      "text/plain": [
       "array([1884.15, 2287.75, 2171.55,  111.5 ,  -80.15, 3456.4 , 3887.05,\n",
       "       1822.3 , 1897.55, 1886.55, 2009.6 , 1982.95, 4685.9 , 2452.65,\n",
       "        870.35,  573.75, 3403.15, 3355.55, 3060.25, 1939.25, 1968.55,\n",
       "       1977.6 , 2047.8 , 1934.5 , 1821.85, 1770.95, 1816.3 , 2386.  ,\n",
       "       1779.6 , 2647.7 , -101.45, -148.45, 2103.15, 2580.6 , 2584.2 ,\n",
       "       1956.8 , 1926.45, 1968.8 , 2939.7 , 2746.6 , 2469.5 , 3576.  ,\n",
       "       2309.2 , 1899.7 , 2669.35, 2962.4 , 3340.2 ,  369.5 , 4134.05,\n",
       "       2083.7 , 3260.15, 1760.7 , 2408.2 , 2380.5 , 2686.6 , 2528.6 ,\n",
       "       2189.4 , 3117.75, 4522.55, 1869.65, 2488.6 , 2335.5 , 4950.6 ,\n",
       "       -221.05, 1901.95, 2165.75, 1808.4 , 2760.25, 2416.1 , 3593.95,\n",
       "       2236.  , 2145.6 , 1981.25, 3674.25, 3154.2 , 1845.6 , 2400.  ,\n",
       "       1788.5 , 3799.35, 2115.1 , 3517.35,  161.05, 2235.95, 3106.  ,\n",
       "       2380.85, 4303.3 , 2780.85, 2494.6 , 2325.65, 3213.85, 3800.7 ,\n",
       "       1826.8 , 3247.05, 2322.7 , 3498.65, 2646.7 , 1955.25, 2034.5 ,\n",
       "        508.4 , 2824.05, 2002.9 , 4562.25, 3820.2 , 3878.1 , 4135.5 ,\n",
       "       4089.45, 4055.45, 2261.85, 2836.6 , 2416.75, 2384.9 , 4165.  ,\n",
       "       1933.15, 1978.05, 3922.55, 3991.7 , 4171.  , 2395.75, 3035.85,\n",
       "       2805.  , 3698.35, 4194.75, 2012.6 , 2038.6 , 2257.6 , 2157.3 ,\n",
       "       2879.95, 2166.7 , 3836.7 , 1927.2 , 4533.75, 4201.45, 3069.7 ,\n",
       "       2279.95, 3600.1 , 3295.6 , 2507.25, 2870.65, 2229.55, 1964.4 ,\n",
       "       2727.75, 2015.4 , 2513.8 , 2176.25, 2906.55, 3474.3 , 3680.75,\n",
       "       3493.2 , 3760.4 , 2300.4 , 2222.4 , 2631.9 , 2943.95, 4448.9 ,\n",
       "       2551.5 , 2632.55, 3208.55, 2589.15, 2212.7 , 2824.5 , 3275.95,\n",
       "       2916.35, 4544.85, 3823.25, 4029.4 , 2335.85, 3500.8 , 3751.  ,\n",
       "       4834.6 ])"
      ]
     },
     "execution_count": 17,
     "metadata": {},
     "output_type": "execute_result"
    }
   ],
   "source": [
    "y_pred"
   ]
  },
  {
   "cell_type": "code",
   "execution_count": null,
   "metadata": {},
   "outputs": [],
   "source": []
  }
 ],
 "metadata": {
  "kernelspec": {
   "display_name": "Python [conda env:.conda-ndvi-nb-env]",
   "language": "python",
   "name": "conda-env-.conda-ndvi-nb-env-py"
  },
  "language_info": {
   "codemirror_mode": {
    "name": "ipython",
    "version": 3
   },
   "file_extension": ".py",
   "mimetype": "text/x-python",
   "name": "python",
   "nbconvert_exporter": "python",
   "pygments_lexer": "ipython3",
   "version": "3.9.6"
  }
 },
 "nbformat": 4,
 "nbformat_minor": 4
}
